{
  "cells": [
    {
      "cell_type": "markdown",
      "metadata": {
        "id": "4A2R9nwAGV2P"
      },
      "source": [
        "**Human Pose Classification with MoveNet and TensorFlow Lite:**"
      ]
    },
    {
      "cell_type": "code",
      "execution_count": 1,
      "metadata": {
        "id": "zdrskk7oGR5J"
      },
      "outputs": [],
      "source": [
        "!pip install -q opencv-python"
      ]
    },
    {
      "cell_type": "code",
      "execution_count": 2,
      "metadata": {
        "id": "salBQJejGqdW"
      },
      "outputs": [],
      "source": [
        "import csv\n",
        "import cv2\n",
        "import itertools\n",
        "import numpy as np\n",
        "import pandas as pd\n",
        "import os\n",
        "import sys\n",
        "import tempfile\n",
        "import tqdm\n",
        "\n",
        "from matplotlib import pyplot as plt\n",
        "from matplotlib.collections import LineCollection\n",
        "\n",
        "import tensorflow as tf\n",
        "import tensorflow_hub as hub\n",
        "from tensorflow import keras\n",
        "\n",
        "from sklearn.model_selection import train_test_split\n",
        "from sklearn.metrics import accuracy_score, classification_report, confusion_matrix"
      ]
    },
    {
      "cell_type": "markdown",
      "metadata": {
        "id": "RTC4DOvcG0HZ"
      },
      "source": [
        "## **Functions to run pose estimation with MoveNet**"
      ]
    },
    {
      "cell_type": "code",
      "execution_count": 3,
      "metadata": {
        "colab": {
          "base_uri": "https://localhost:8080/"
        },
        "id": "yMm1aXqNG6fd",
        "outputId": "f410523a-29d5-4ff0-a9be-d80c5e90f785"
      },
      "outputs": [
        {
          "output_type": "stream",
          "name": "stdout",
          "text": [
            "Cloning into 'examples'...\n",
            "remote: Enumerating objects: 22891, done.\u001b[K\n",
            "remote: Counting objects: 100% (78/78), done.\u001b[K\n",
            "remote: Compressing objects: 100% (59/59), done.\u001b[K\n",
            "remote: Total 22891 (delta 27), reused 59 (delta 18), pack-reused 22813\u001b[K\n",
            "Receiving objects: 100% (22891/22891), 42.10 MiB | 30.57 MiB/s, done.\n",
            "Resolving deltas: 100% (12564/12564), done.\n"
          ]
        }
      ],
      "source": [
        "#@title Functions to run pose estimation with MoveNet\n",
        "\n",
        "#@markdown You'll download the MoveNet Thunder model from [TensorFlow Hub](https://www.google.com/url?sa=D&q=https%3A%2F%2Ftfhub.dev%2Fs%3Fq%3Dmovenet), and reuse some inference and visualization logic from the [MoveNet Raspberry Pi (Python)](https://github.com/tensorflow/examples/tree/master/lite/examples/pose_estimation/raspberry_pi) sample app to detect landmarks (ear, nose, wrist etc.) from the input images.\n",
        "\n",
        "#@markdown *Note: You should use the most accurate pose estimation model (i.e. MoveNet Thunder) to detect the keypoints and use them to train the pose classification model to achieve the best accuracy. When running inference, you can use a pose estimation model of your choice (e.g. either MoveNet Lightning or Thunder).*\n",
        "\n",
        "# Download model from TF Hub and check out inference code from GitHub\n",
        "!wget -q -O movenet_thunder.tflite https://tfhub.dev/google/lite-model/movenet/singlepose/thunder/tflite/float16/4?lite-format=tflite\n",
        "!git clone https://github.com/tensorflow/examples.git\n",
        "pose_sample_rpi_path = os.path.join(os.getcwd(), 'examples/lite/examples/pose_estimation/raspberry_pi')\n",
        "sys.path.append(pose_sample_rpi_path)\n",
        "\n",
        "# Load MoveNet Thunder model\n",
        "import utils\n",
        "from data import BodyPart\n",
        "from ml import Movenet\n",
        "movenet = Movenet('movenet_thunder')\n",
        "\n",
        "# Define function to run pose estimation using MoveNet Thunder.\n",
        "# You'll apply MoveNet's cropping algorithm and run inference multiple times on\n",
        "# the input image to improve pose estimation accuracy.\n",
        "def detect(input_tensor, inference_count=3):\n",
        "  \"\"\"Runs detection on an input image.\n",
        " \n",
        "  Args:\n",
        "    input_tensor: A [height, width, 3] Tensor of type tf.float32.\n",
        "      Note that height and width can be anything since the image will be\n",
        "      immediately resized according to the needs of the model within this\n",
        "      function.\n",
        "    inference_count: Number of times the model should run repeatly on the\n",
        "      same input image to improve detection accuracy.\n",
        " \n",
        "  Returns:\n",
        "    A Person entity detected by the MoveNet.SinglePose.\n",
        "  \"\"\"\n",
        "  image_height, image_width, channel = input_tensor.shape\n",
        " \n",
        "  # Detect pose using the full input image\n",
        "  movenet.detect(input_tensor.numpy(), reset_crop_region=True)\n",
        " \n",
        "  # Repeatedly using previous detection result to identify the region of\n",
        "  # interest and only croping that region to improve detection accuracy\n",
        "  for _ in range(inference_count - 1):\n",
        "    person = movenet.detect(input_tensor.numpy(), \n",
        "                            reset_crop_region=False)\n",
        "\n",
        "  return person"
      ]
    },
    {
      "cell_type": "markdown",
      "metadata": {
        "id": "buvyTsM9HDpH"
      },
      "source": [
        "## **Functions to visualize the pose estimation results**"
      ]
    },
    {
      "cell_type": "code",
      "execution_count": 4,
      "metadata": {
        "id": "kGCR6mT5HJSC"
      },
      "outputs": [],
      "source": [
        "#@title Functions to visualize the pose estimation results.\n",
        "\n",
        "def draw_prediction_on_image(\n",
        "    image, person, crop_region=None, close_figure=True,\n",
        "    keep_input_size=False):\n",
        "  \"\"\"Draws the keypoint predictions on image.\n",
        " \n",
        "  Args:\n",
        "    image: An numpy array with shape [height, width, channel] representing the\n",
        "      pixel values of the input image.\n",
        "    person: A person entity returned from the MoveNet.SinglePose model.\n",
        "    close_figure: Whether to close the plt figure after the function returns.\n",
        "    keep_input_size: Whether to keep the size of the input image.\n",
        " \n",
        "  Returns:\n",
        "    An numpy array with shape [out_height, out_width, channel] representing the\n",
        "    image overlaid with keypoint predictions.\n",
        "  \"\"\"\n",
        "  # Draw the detection result on top of the image.\n",
        "  image_np = utils.visualize(image, [person])\n",
        "  \n",
        "  # Plot the image with detection results.\n",
        "  height, width, channel = image.shape\n",
        "  aspect_ratio = float(width) / height\n",
        "  fig, ax = plt.subplots(figsize=(12 * aspect_ratio, 12))\n",
        "  im = ax.imshow(image_np)\n",
        " \n",
        "  if close_figure:\n",
        "    plt.close(fig)\n",
        " \n",
        "  if not keep_input_size:\n",
        "    image_np = utils.keep_aspect_ratio_resizer(image_np, (512, 512))\n",
        "\n",
        "  return image_np"
      ]
    },
    {
      "cell_type": "markdown",
      "metadata": {
        "id": "ewG8pc-kHO48"
      },
      "source": [
        "#Code to load the images, detect pose landmarks and save them into a CSV file"
      ]
    },
    {
      "cell_type": "markdown",
      "source": [
        "CODE TO SEE KEY POINTS"
      ],
      "metadata": {
        "id": "HcEFCmsdPGbR"
      }
    },
    {
      "cell_type": "code",
      "source": [
        "test_image_url = \"https://cdn.pixabay.com/photo/2017/03/03/17/30/yoga-2114512_960_720.jpg\"\n",
        "!wget -O /tmp/image.jpeg {test_image_url}\n",
        "\n",
        "if len(test_image_url):\n",
        "  image = tf.io.read_file('/tmp/image.jpeg')\n",
        "  image = tf.io.decode_jpeg(image)\n",
        "  person = detect(image)\n",
        "  _ = draw_prediction_on_image(image.numpy(), person, crop_region=None, \n",
        "                               close_figure=False, keep_input_size=True)"
      ],
      "metadata": {
        "id": "2Irg_oGXPKSc"
      },
      "execution_count": null,
      "outputs": []
    },
    {
      "cell_type": "code",
      "execution_count": 5,
      "metadata": {
        "id": "F7lKmN7QHfvU"
      },
      "outputs": [],
      "source": [
        "#@title Code to load the images, detect pose landmarks and save them into a CSV file\n",
        "\n",
        "class MoveNetPreprocessor(object):\n",
        "  \"\"\"Helper class to preprocess pose sample images for classification.\"\"\"\n",
        " \n",
        "  def __init__(self,\n",
        "               images_in_folder,\n",
        "               images_out_folder,\n",
        "               csvs_out_path):\n",
        "    \"\"\"Creates a preprocessor to detection pose from images and save as CSV.\n",
        "\n",
        "    Args:\n",
        "      images_in_folder: Path to the folder with the input images. It should\n",
        "        follow this structure:\n",
        "        yoga_poses\n",
        "        |__ downdog\n",
        "            |______ 00000128.jpg\n",
        "            |______ 00000181.bmp\n",
        "            |______ ...\n",
        "        |__ goddess\n",
        "            |______ 00000243.jpg\n",
        "            |______ 00000306.jpg\n",
        "            |______ ...\n",
        "        ...\n",
        "      images_out_folder: Path to write the images overlay with detected\n",
        "        landmarks. These images are useful when you need to debug accuracy\n",
        "        issues.\n",
        "      csvs_out_path: Path to write the CSV containing the detected landmark\n",
        "        coordinates and label of each image that can be used to train a pose\n",
        "        classification model.\n",
        "    \"\"\"\n",
        "    self._images_in_folder = images_in_folder\n",
        "    self._images_out_folder = images_out_folder\n",
        "    self._csvs_out_path = csvs_out_path\n",
        "    self._messages = []\n",
        "\n",
        "    # Create a temp dir to store the pose CSVs per class\n",
        "    self._csvs_out_folder_per_class = tempfile.mkdtemp()\n",
        " \n",
        "    # Get list of pose classes and print image statistics\n",
        "    self._pose_class_names = sorted(\n",
        "        [n for n in os.listdir(self._images_in_folder) if not n.startswith('.')]\n",
        "        )\n",
        "    \n",
        "  def process(self, per_pose_class_limit=None, detection_threshold=0.1):\n",
        "    \"\"\"Preprocesses images in the given folder.\n",
        "    Args:\n",
        "      per_pose_class_limit: Number of images to load. As preprocessing usually\n",
        "        takes time, this parameter can be specified to make the reduce of the\n",
        "        dataset for testing.\n",
        "      detection_threshold: Only keep images with all landmark confidence score\n",
        "        above this threshold.\n",
        "    \"\"\"\n",
        "    # Loop through the classes and preprocess its images\n",
        "    for pose_class_name in self._pose_class_names:\n",
        "      print('Preprocessing', pose_class_name, file=sys.stderr)\n",
        "\n",
        "      # Paths for the pose class.\n",
        "      images_in_folder = os.path.join(self._images_in_folder, pose_class_name)\n",
        "      images_out_folder = os.path.join(self._images_out_folder, pose_class_name)\n",
        "      csv_out_path = os.path.join(self._csvs_out_folder_per_class,\n",
        "                                  pose_class_name + '.csv')\n",
        "      if not os.path.exists(images_out_folder):\n",
        "        os.makedirs(images_out_folder)\n",
        " \n",
        "      # Detect landmarks in each image and write it to a CSV file\n",
        "      with open(csv_out_path, 'w') as csv_out_file:\n",
        "        csv_out_writer = csv.writer(csv_out_file, \n",
        "                                    delimiter=',', \n",
        "                                    quoting=csv.QUOTE_MINIMAL)\n",
        "        # Get list of images\n",
        "        image_names = sorted(\n",
        "            [n for n in os.listdir(images_in_folder) if not n.startswith('.')])\n",
        "        if per_pose_class_limit is not None:\n",
        "          image_names = image_names[:per_pose_class_limit]\n",
        "\n",
        "        valid_image_count = 0\n",
        " \n",
        "        # Detect pose landmarks from each image\n",
        "        for image_name in tqdm.tqdm(image_names):\n",
        "          image_path = os.path.join(images_in_folder, image_name)\n",
        "\n",
        "          try:\n",
        "            image = tf.io.read_file(image_path)\n",
        "            image = tf.io.decode_jpeg(image)\n",
        "          except:\n",
        "            self._messages.append('Skipped ' + image_path + '. Invalid image.')\n",
        "            continue\n",
        "          else:\n",
        "            image = tf.io.read_file(image_path)\n",
        "            image = tf.io.decode_jpeg(image)\n",
        "            image_height, image_width, channel = image.shape\n",
        "          \n",
        "          # Skip images that isn't RGB because Movenet requires RGB images\n",
        "          if channel != 3:\n",
        "            self._messages.append('Skipped ' + image_path +\n",
        "                                  '. Image isn\\'t in RGB format.')\n",
        "            continue\n",
        "          person = detect(image)\n",
        "          \n",
        "          # Save landmarks if all landmarks were detected\n",
        "          min_landmark_score = min(\n",
        "              [keypoint.score for keypoint in person.keypoints])\n",
        "          should_keep_image = min_landmark_score >= detection_threshold\n",
        "          if not should_keep_image:\n",
        "            self._messages.append('Skipped ' + image_path +\n",
        "                                  '. No pose was confidentlly detected.')\n",
        "            continue\n",
        "\n",
        "          valid_image_count += 1\n",
        "\n",
        "          # Draw the prediction result on top of the image for debugging later\n",
        "          output_overlay = draw_prediction_on_image(\n",
        "              image.numpy().astype(np.uint8), person, \n",
        "              close_figure=True, keep_input_size=True)\n",
        "        \n",
        "          # Write detection result into an image file\n",
        "          output_frame = cv2.cvtColor(output_overlay, cv2.COLOR_RGB2BGR)\n",
        "          cv2.imwrite(os.path.join(images_out_folder, image_name), output_frame)\n",
        "        \n",
        "          # Get landmarks and scale it to the same size as the input image\n",
        "          pose_landmarks = np.array(\n",
        "              [[keypoint.coordinate.x, keypoint.coordinate.y, keypoint.score]\n",
        "                for keypoint in person.keypoints],\n",
        "              dtype=np.float32)\n",
        "\n",
        "          # Write the landmark coordinates to its per-class CSV file\n",
        "          coordinates = pose_landmarks.flatten().astype(np.str).tolist()\n",
        "          csv_out_writer.writerow([image_name] + coordinates)\n",
        "\n",
        "        if not valid_image_count:\n",
        "          raise RuntimeError(\n",
        "              'No valid images found for the \"{}\" class.'\n",
        "              .format(pose_class_name))\n",
        "      \n",
        "    # Print the error message collected during preprocessing.\n",
        "    print('\\n'.join(self._messages))\n",
        "\n",
        "    # Combine all per-class CSVs into a single output file\n",
        "    all_landmarks_df = self._all_landmarks_as_dataframe()\n",
        "    all_landmarks_df.to_csv(self._csvs_out_path, index=False)\n",
        "\n",
        "  def class_names(self):\n",
        "    \"\"\"List of classes found in the training dataset.\"\"\"\n",
        "    return self._pose_class_names\n",
        "  \n",
        "  def _all_landmarks_as_dataframe(self):\n",
        "    \"\"\"Merge all per-class CSVs into a single dataframe.\"\"\"\n",
        "    total_df = None\n",
        "    for class_index, class_name in enumerate(self._pose_class_names):\n",
        "      csv_out_path = os.path.join(self._csvs_out_folder_per_class,\n",
        "                                  class_name + '.csv')\n",
        "      per_class_df = pd.read_csv(csv_out_path, header=None)\n",
        "      \n",
        "      # Add the labels\n",
        "      per_class_df['class_no'] = [class_index]*len(per_class_df)\n",
        "      per_class_df['class_name'] = [class_name]*len(per_class_df)\n",
        "\n",
        "      # Append the folder name to the filename column (first column)\n",
        "      per_class_df[per_class_df.columns[0]] = (os.path.join(class_name, '') \n",
        "        + per_class_df[per_class_df.columns[0]].astype(str))\n",
        "\n",
        "      if total_df is None:\n",
        "        # For the first class, assign its data to the total dataframe\n",
        "        total_df = per_class_df\n",
        "      else:\n",
        "        # Concatenate each class's data into the total dataframe\n",
        "        total_df = pd.concat([total_df, per_class_df], axis=0)\n",
        " \n",
        "    list_name = [[bodypart.name + '_x', bodypart.name + '_y', \n",
        "                  bodypart.name + '_score'] for bodypart in BodyPart] \n",
        "    header_name = []\n",
        "    for columns_name in list_name:\n",
        "      header_name += columns_name\n",
        "    header_name = ['file_name'] + header_name\n",
        "    header_map = {total_df.columns[i]: header_name[i] \n",
        "                  for i in range(len(header_name))}\n",
        " \n",
        "    total_df.rename(header_map, axis=1, inplace=True)\n",
        "\n",
        "    return total_df"
      ]
    },
    {
      "cell_type": "markdown",
      "metadata": {
        "id": "u--z5R3KH3Ii"
      },
      "source": [
        "# **Part 1: Preprocess the input images**\n",
        "you can download a pre-existing CSV file for the yoga dataset by setting is_skip_step_1 parameter below to True. That way, you'll skip this step and instead download the same CSV file that will be created in this preprocessing step.\n",
        "\n",
        "On the other hand, if you want to train the pose classifier with your own image dataset, you need to upload your images and run this preprocessing step (leave is_skip_step_1 False)—follow the instructions below to upload your own pose dataset."
      ]
    },
    {
      "cell_type": "code",
      "execution_count": 6,
      "metadata": {
        "id": "iMhRm_gdH6fo"
      },
      "outputs": [],
      "source": [
        "is_skip_step_1 = False #@param [\"False\", \"True\"] {type:\"raw\"}"
      ]
    },
    {
      "cell_type": "markdown",
      "metadata": {
        "id": "o6YDIVk3ILtQ"
      },
      "source": [
        "# **Upload your own pose dataset**"
      ]
    },
    {
      "cell_type": "code",
      "execution_count": 7,
      "metadata": {
        "id": "JX68zotUIVyO"
      },
      "outputs": [],
      "source": [
        "use_custom_dataset = True #@param [\"False\", \"True\"] {type:\"raw\"}\n",
        "\n",
        "dataset_is_split = False #@param [\"False\", \"True\"] {type:\"raw\"}"
      ]
    },
    {
      "cell_type": "code",
      "execution_count": 8,
      "metadata": {
        "id": "eFYqZQ-EIl7M"
      },
      "outputs": [],
      "source": [
        "#@markdown Be sure you run this cell. It's hiding the `split_into_train_test()` function that's called in the next code block.\n",
        "\n",
        "import os\n",
        "import random\n",
        "import shutil\n",
        "\n",
        "def split_into_train_test(images_origin, images_dest, test_split):\n",
        "  \"\"\"Splits a directory of sorted images into training and test sets.\n",
        "\n",
        "  Args:\n",
        "    images_origin: Path to the directory with your images. This directory\n",
        "      must include subdirectories for each of your labeled classes. For example:\n",
        "      yoga_poses/\n",
        "      |__ downdog/\n",
        "          |______ 00000128.jpg\n",
        "          |______ 00000181.jpg\n",
        "          |______ ...\n",
        "      |__ goddess/\n",
        "          |______ 00000243.jpg\n",
        "          |______ 00000306.jpg\n",
        "          |______ ...\n",
        "      ...\n",
        "    images_dest: Path to a directory where you want the split dataset to be\n",
        "      saved. The results looks like this:\n",
        "      split_yoga_poses/\n",
        "      |__ train/\n",
        "          |__ downdog/\n",
        "              |______ 00000128.jpg\n",
        "              |______ ...\n",
        "      |__ test/\n",
        "          |__ downdog/\n",
        "              |______ 00000181.jpg\n",
        "              |______ ...\n",
        "    test_split: Fraction of data to reserve for test (float between 0 and 1).\n",
        "  \"\"\"\n",
        "  _, dirs, _ = next(os.walk(images_origin))\n",
        "\n",
        "  TRAIN_DIR = os.path.join(images_dest, 'train')\n",
        "  TEST_DIR = os.path.join(images_dest, 'test')\n",
        "  os.makedirs(TRAIN_DIR, exist_ok=True)\n",
        "  os.makedirs(TEST_DIR, exist_ok=True)\n",
        "\n",
        "  for dir in dirs:\n",
        "    # Get all filenames for this dir, filtered by filetype\n",
        "    filenames = os.listdir(os.path.join(images_origin, dir))\n",
        "    filenames = [os.path.join(images_origin, dir, f) for f in filenames if (\n",
        "        f.endswith('.png') or f.endswith('.jpg') or f.endswith('.jpeg') or f.endswith('.bmp'))]\n",
        "    # Shuffle the files, deterministically\n",
        "    filenames.sort()\n",
        "    random.seed(42)\n",
        "    random.shuffle(filenames)\n",
        "    # Divide them into train/test dirs\n",
        "    os.makedirs(os.path.join(TEST_DIR, dir), exist_ok=True)\n",
        "    os.makedirs(os.path.join(TRAIN_DIR, dir), exist_ok=True)\n",
        "    test_count = int(len(filenames) * test_split)\n",
        "    for i, file in enumerate(filenames):\n",
        "      if i < test_count:\n",
        "        destination = os.path.join(TEST_DIR, dir, os.path.split(file)[1])\n",
        "      else:\n",
        "        destination = os.path.join(TRAIN_DIR, dir, os.path.split(file)[1])\n",
        "      shutil.copyfile(file, destination)\n",
        "    print(f'Moved {test_count} of {len(filenames)} from class \"{dir}\" into test.')\n",
        "  print(f'Your split dataset is in \"{images_dest}\"')"
      ]
    },
    {
      "cell_type": "code",
      "execution_count": 10,
      "metadata": {
        "colab": {
          "base_uri": "https://localhost:8080/"
        },
        "id": "t5iNUyrVItJr",
        "outputId": "c8355d27-4910-4710-fbc9-000df4422687"
      },
      "outputs": [
        {
          "output_type": "stream",
          "name": "stdout",
          "text": [
            "Moved 6 of 33 from class \"agnistambhasana\" into test.\n",
            "Moved 8 of 43 from class \"anantasana\" into test.\n",
            "Moved 11 of 59 from class \"adho mukha vriksasana\" into test.\n",
            "Moved 11 of 59 from class \"ananda balasana\" into test.\n",
            "Moved 13 of 66 from class \"adho mukha svanasana512\" into test.\n",
            "Your split dataset is in \"split_archive\"\n"
          ]
        }
      ],
      "source": [
        "if use_custom_dataset:\n",
        "  # ATTENTION:\n",
        "  # You must edit these two lines to match your archive and images folder name:\n",
        "  # !tar -xf YOUR_DATASET_ARCHIVE_NAME.tar\n",
        "  \n",
        "  !unzip -q archive.zip\n",
        "  dataset_in = 'archive'\n",
        "  \n",
        "\n",
        "  # You can leave the rest alone:\n",
        "  if not os.path.isdir(dataset_in):\n",
        "    raise Exception(\"dataset_in is not a valid directory\")\n",
        "  if dataset_is_split:\n",
        "    IMAGES_ROOT = dataset_in\n",
        "  else:\n",
        "    dataset_out = 'split_' + dataset_in\n",
        "    split_into_train_test(dataset_in, dataset_out, test_split=0.2)\n",
        "    IMAGES_ROOT = dataset_out"
      ]
    },
    {
      "cell_type": "markdown",
      "metadata": {
        "id": "oAZxb7ZBI58J"
      },
      "source": [
        "Preprocess the TRAIN dataset"
      ]
    },
    {
      "cell_type": "code",
      "execution_count": 11,
      "metadata": {
        "colab": {
          "base_uri": "https://localhost:8080/"
        },
        "id": "TphjLjTQIypJ",
        "outputId": "bc92df2f-f216-4c33-d035-94ebc0bb96b2"
      },
      "outputs": [
        {
          "output_type": "stream",
          "name": "stderr",
          "text": [
            "Preprocessing adho mukha svanasana512\n",
            "  0%|          | 0/53 [00:00<?, ?it/s]<ipython-input-5-2a3c079ce13f>:128: DeprecationWarning: `np.str` is a deprecated alias for the builtin `str`. To silence this warning, use `str` by itself. Doing this will not modify any behavior and is safe. If you specifically wanted the numpy scalar type, use `np.str_` here.\n",
            "Deprecated in NumPy 1.20; for more details and guidance: https://numpy.org/devdocs/release/1.20.0-notes.html#deprecations\n",
            "  coordinates = pose_landmarks.flatten().astype(np.str).tolist()\n",
            "100%|██████████| 53/53 [02:56<00:00,  3.33s/it]\n",
            "Preprocessing adho mukha vriksasana\n",
            "100%|██████████| 48/48 [02:42<00:00,  3.39s/it]\n",
            "Preprocessing agnistambhasana\n",
            "100%|██████████| 27/27 [01:31<00:00,  3.38s/it]\n",
            "Preprocessing ananda balasana\n",
            "100%|██████████| 48/48 [02:38<00:00,  3.30s/it]\n",
            "Preprocessing anantasana\n",
            "100%|██████████| 35/35 [01:58<00:00,  3.38s/it]"
          ]
        },
        {
          "output_type": "stream",
          "name": "stdout",
          "text": [
            "Skipped split_archive/train/adho mukha svanasana512/12. 66a62b8c606fd88e0401b5af0a7cbca7 resized.jpg. No pose was confidentlly detected.\n",
            "Skipped split_archive/train/adho mukha svanasana512/3. downward-facing-dog-pose-567x567.png. Image isn't in RGB format.\n",
            "Skipped split_archive/train/adho mukha svanasana512/34. adho-mukha-svanasana resized.jpg. No pose was confidentlly detected.\n",
            "Skipped split_archive/train/adho mukha svanasana512/46. yoga7b-754x394 resized.jpg. No pose was confidentlly detected.\n",
            "Skipped split_archive/train/adho mukha vriksasana/16-0.png. No pose was confidentlly detected.\n",
            "Skipped split_archive/train/adho mukha vriksasana/63-0.png. No pose was confidentlly detected.\n",
            "Skipped split_archive/train/adho mukha vriksasana/90-0.png. No pose was confidentlly detected.\n",
            "Skipped split_archive/train/agnistambhasana/33-0.png. No pose was confidentlly detected.\n",
            "Skipped split_archive/train/agnistambhasana/47-0.png. No pose was confidentlly detected.\n",
            "Skipped split_archive/train/ananda balasana/1-0.png. No pose was confidentlly detected.\n",
            "Skipped split_archive/train/ananda balasana/10-0.png. No pose was confidentlly detected.\n",
            "Skipped split_archive/train/ananda balasana/11-0.png. No pose was confidentlly detected.\n",
            "Skipped split_archive/train/ananda balasana/14-0.png. No pose was confidentlly detected.\n",
            "Skipped split_archive/train/ananda balasana/20-0.png. No pose was confidentlly detected.\n",
            "Skipped split_archive/train/ananda balasana/23-0.png. No pose was confidentlly detected.\n",
            "Skipped split_archive/train/ananda balasana/32-0.png. No pose was confidentlly detected.\n",
            "Skipped split_archive/train/ananda balasana/35-0.png. No pose was confidentlly detected.\n",
            "Skipped split_archive/train/ananda balasana/37-0.png. Image isn't in RGB format.\n",
            "Skipped split_archive/train/ananda balasana/41-0.png. No pose was confidentlly detected.\n",
            "Skipped split_archive/train/ananda balasana/43-0.png. No pose was confidentlly detected.\n",
            "Skipped split_archive/train/ananda balasana/45-0.png. No pose was confidentlly detected.\n",
            "Skipped split_archive/train/ananda balasana/84-0.png. No pose was confidentlly detected.\n",
            "Skipped split_archive/train/ananda balasana/86-0.png. No pose was confidentlly detected.\n",
            "Skipped split_archive/train/ananda balasana/98-0.png. No pose was confidentlly detected.\n",
            "Skipped split_archive/train/anantasana/28-1.png. No pose was confidentlly detected.\n",
            "Skipped split_archive/train/anantasana/43-0.png. No pose was confidentlly detected.\n",
            "Skipped split_archive/train/anantasana/74-1.png. No pose was confidentlly detected.\n",
            "Skipped split_archive/train/anantasana/8-0.png. No pose was confidentlly detected.\n"
          ]
        },
        {
          "output_type": "stream",
          "name": "stderr",
          "text": [
            "\n"
          ]
        }
      ],
      "source": [
        "if not is_skip_step_1:\n",
        "  images_in_train_folder = os.path.join(IMAGES_ROOT, 'train')\n",
        "  images_out_train_folder = 'poses_images_out_train'\n",
        "  csvs_out_train_path = 'train_data.csv'\n",
        "\n",
        "  preprocessor = MoveNetPreprocessor(\n",
        "      images_in_folder=images_in_train_folder,\n",
        "      images_out_folder=images_out_train_folder,\n",
        "      csvs_out_path=csvs_out_train_path,\n",
        "  )\n",
        "\n",
        "  preprocessor.process(per_pose_class_limit=None)"
      ]
    },
    {
      "cell_type": "markdown",
      "metadata": {
        "id": "JEXzbpnvJCDJ"
      },
      "source": [
        "Preprocess the TEST dataset"
      ]
    },
    {
      "cell_type": "code",
      "execution_count": 12,
      "metadata": {
        "colab": {
          "base_uri": "https://localhost:8080/"
        },
        "id": "aVarY67PJFQv",
        "outputId": "58dfe309-cba2-49eb-ace3-61a8a3d220a6"
      },
      "outputs": [
        {
          "output_type": "stream",
          "name": "stderr",
          "text": [
            "Preprocessing adho mukha svanasana512\n",
            "  0%|          | 0/13 [00:00<?, ?it/s]<ipython-input-5-2a3c079ce13f>:128: DeprecationWarning: `np.str` is a deprecated alias for the builtin `str`. To silence this warning, use `str` by itself. Doing this will not modify any behavior and is safe. If you specifically wanted the numpy scalar type, use `np.str_` here.\n",
            "Deprecated in NumPy 1.20; for more details and guidance: https://numpy.org/devdocs/release/1.20.0-notes.html#deprecations\n",
            "  coordinates = pose_landmarks.flatten().astype(np.str).tolist()\n",
            "100%|██████████| 13/13 [00:43<00:00,  3.37s/it]\n",
            "Preprocessing adho mukha vriksasana\n",
            "100%|██████████| 11/11 [00:37<00:00,  3.37s/it]\n",
            "Preprocessing agnistambhasana\n",
            "100%|██████████| 6/6 [00:20<00:00,  3.45s/it]\n",
            "Preprocessing ananda balasana\n",
            "100%|██████████| 11/11 [00:37<00:00,  3.39s/it]\n",
            "Preprocessing anantasana\n",
            "100%|██████████| 8/8 [00:27<00:00,  3.38s/it]"
          ]
        },
        {
          "output_type": "stream",
          "name": "stdout",
          "text": [
            "Skipped split_archive/test/adho mukha vriksasana/3-0.png. No pose was confidentlly detected.\n",
            "Skipped split_archive/test/adho mukha vriksasana/31-0.png. No pose was confidentlly detected.\n",
            "Skipped split_archive/test/adho mukha vriksasana/37-0.png. No pose was confidentlly detected.\n",
            "Skipped split_archive/test/adho mukha vriksasana/72-1.png. No pose was confidentlly detected.\n",
            "Skipped split_archive/test/ananda balasana/80-0.png. No pose was confidentlly detected.\n",
            "Skipped split_archive/test/ananda balasana/91-0.png. No pose was confidentlly detected.\n",
            "Skipped split_archive/test/anantasana/43-1.png. No pose was confidentlly detected.\n"
          ]
        },
        {
          "output_type": "stream",
          "name": "stderr",
          "text": [
            "\n"
          ]
        }
      ],
      "source": [
        "if not is_skip_step_1:\n",
        "  images_in_test_folder = os.path.join(IMAGES_ROOT, 'test')\n",
        "  images_out_test_folder = 'poses_images_out_test'\n",
        "  csvs_out_test_path = 'test_data.csv'\n",
        "\n",
        "  preprocessor = MoveNetPreprocessor(\n",
        "      images_in_folder=images_in_test_folder,\n",
        "      images_out_folder=images_out_test_folder,\n",
        "      csvs_out_path=csvs_out_test_path,\n",
        "  )\n",
        "\n",
        "  preprocessor.process(per_pose_class_limit=None)"
      ]
    },
    {
      "cell_type": "markdown",
      "metadata": {
        "id": "61jr4aDKT41v"
      },
      "source": [
        "Load the preprocessed CSVs into TRAIN and TEST datasets."
      ]
    },
    {
      "cell_type": "code",
      "execution_count": 13,
      "metadata": {
        "id": "PMBI7pZpT8Wc"
      },
      "outputs": [],
      "source": [
        "def load_pose_landmarks(csv_path):\n",
        "  \"\"\"Loads a CSV created by MoveNetPreprocessor.\n",
        "  \n",
        "  Returns:\n",
        "    X: Detected landmark coordinates and scores of shape (N, 17 * 3)\n",
        "    y: Ground truth labels of shape (N, label_count)\n",
        "    classes: The list of all class names found in the dataset\n",
        "    dataframe: The CSV loaded as a Pandas dataframe features (X) and ground\n",
        "      truth labels (y) to use later to train a pose classification model.\n",
        "  \"\"\"\n",
        "\n",
        "  # Load the CSV file\n",
        "  dataframe = pd.read_csv(csv_path)\n",
        "  df_to_process = dataframe.copy()\n",
        "\n",
        "  # Drop the file_name columns as you don't need it during training.\n",
        "  df_to_process.drop(columns=['file_name'], inplace=True)\n",
        "\n",
        "  # Extract the list of class names\n",
        "  classes = df_to_process.pop('class_name').unique()\n",
        "\n",
        "  # Extract the labels\n",
        "  y = df_to_process.pop('class_no')\n",
        "\n",
        "  # Convert the input features and labels into the correct format for training.\n",
        "  X = df_to_process.astype('float64')\n",
        "  y = keras.utils.to_categorical(y)\n",
        "\n",
        "  return X, y, classes, dataframe"
      ]
    },
    {
      "cell_type": "markdown",
      "metadata": {
        "id": "D397XiYGUGvQ"
      },
      "source": [
        "Load and split the original TRAIN dataset into TRAIN (85% of the data) and VALIDATE (the remaining 15%)"
      ]
    },
    {
      "cell_type": "code",
      "execution_count": 14,
      "metadata": {
        "id": "E7jM_oP9UM4q"
      },
      "outputs": [],
      "source": [
        "# Load the train data\n",
        "X, y, class_names, _ = load_pose_landmarks(csvs_out_train_path)\n",
        "\n",
        "# Split training data (X, y) into (X_train, y_train) and (X_val, y_val)\n",
        "X_train, X_val, y_train, y_val = train_test_split(X, y,\n",
        "                                                  test_size=0.15)"
      ]
    },
    {
      "cell_type": "code",
      "execution_count": 15,
      "metadata": {
        "id": "ueaKugrqUYCx"
      },
      "outputs": [],
      "source": [
        "# Load the test data\n",
        "X_test, y_test, _, df_test = load_pose_landmarks(csvs_out_test_path)"
      ]
    },
    {
      "cell_type": "markdown",
      "metadata": {
        "id": "D33eHkqDUd9_"
      },
      "source": [
        "Define functions to convert the pose landmarks to a pose embedding (a.k.a. feature vector) for pose classification"
      ]
    },
    {
      "cell_type": "code",
      "execution_count": 16,
      "metadata": {
        "id": "Bpt9kDIBUfDF"
      },
      "outputs": [],
      "source": [
        "def get_center_point(landmarks, left_bodypart, right_bodypart):\n",
        "  \"\"\"Calculates the center point of the two given landmarks.\"\"\"\n",
        "\n",
        "  left = tf.gather(landmarks, left_bodypart.value, axis=1)\n",
        "  right = tf.gather(landmarks, right_bodypart.value, axis=1)\n",
        "  center = left * 0.5 + right * 0.5\n",
        "  return center\n",
        "\n",
        "\n",
        "def get_pose_size(landmarks, torso_size_multiplier=2.5):\n",
        "  \"\"\"Calculates pose size.\n",
        "\n",
        "  It is the maximum of two values:\n",
        "    * Torso size multiplied by `torso_size_multiplier`\n",
        "    * Maximum distance from pose center to any pose landmark\n",
        "  \"\"\"\n",
        "  # Hips center\n",
        "  hips_center = get_center_point(landmarks, BodyPart.LEFT_HIP, \n",
        "                                 BodyPart.RIGHT_HIP)\n",
        "\n",
        "  # Shoulders center\n",
        "  shoulders_center = get_center_point(landmarks, BodyPart.LEFT_SHOULDER,\n",
        "                                      BodyPart.RIGHT_SHOULDER)\n",
        "\n",
        "  # Torso size as the minimum body size\n",
        "  torso_size = tf.linalg.norm(shoulders_center - hips_center)\n",
        "\n",
        "  # Pose center\n",
        "  pose_center_new = get_center_point(landmarks, BodyPart.LEFT_HIP, \n",
        "                                     BodyPart.RIGHT_HIP)\n",
        "  pose_center_new = tf.expand_dims(pose_center_new, axis=1)\n",
        "  # Broadcast the pose center to the same size as the landmark vector to\n",
        "  # perform substraction\n",
        "  pose_center_new = tf.broadcast_to(pose_center_new,\n",
        "                                    [tf.size(landmarks) // (17*2), 17, 2])\n",
        "\n",
        "  # Dist to pose center\n",
        "  d = tf.gather(landmarks - pose_center_new, 0, axis=0,\n",
        "                name=\"dist_to_pose_center\")\n",
        "  # Max dist to pose center\n",
        "  max_dist = tf.reduce_max(tf.linalg.norm(d, axis=0))\n",
        "\n",
        "  # Normalize scale\n",
        "  pose_size = tf.maximum(torso_size * torso_size_multiplier, max_dist)\n",
        "\n",
        "  return pose_size\n",
        "\n",
        "\n",
        "def normalize_pose_landmarks(landmarks):\n",
        "  \"\"\"Normalizes the landmarks translation by moving the pose center to (0,0) and\n",
        "  scaling it to a constant pose size.\n",
        "  \"\"\"\n",
        "  # Move landmarks so that the pose center becomes (0,0)\n",
        "  pose_center = get_center_point(landmarks, BodyPart.LEFT_HIP, \n",
        "                                 BodyPart.RIGHT_HIP)\n",
        "  pose_center = tf.expand_dims(pose_center, axis=1)\n",
        "  # Broadcast the pose center to the same size as the landmark vector to perform\n",
        "  # substraction\n",
        "  pose_center = tf.broadcast_to(pose_center, \n",
        "                                [tf.size(landmarks) // (17*2), 17, 2])\n",
        "  landmarks = landmarks - pose_center\n",
        "\n",
        "  # Scale the landmarks to a constant pose size\n",
        "  pose_size = get_pose_size(landmarks)\n",
        "  landmarks /= pose_size\n",
        "\n",
        "  return landmarks\n",
        "\n",
        "\n",
        "def landmarks_to_embedding(landmarks_and_scores):\n",
        "  \"\"\"Converts the input landmarks into a pose embedding.\"\"\"\n",
        "  # Reshape the flat input into a matrix with shape=(17, 3)\n",
        "  reshaped_inputs = keras.layers.Reshape((17, 3))(landmarks_and_scores)\n",
        "\n",
        "  # Normalize landmarks 2D\n",
        "  landmarks = normalize_pose_landmarks(reshaped_inputs[:, :, :2])\n",
        "\n",
        "  # Flatten the normalized landmark coordinates into a vector\n",
        "  embedding = keras.layers.Flatten()(landmarks)\n",
        "\n",
        "  return embedding"
      ]
    },
    {
      "cell_type": "markdown",
      "metadata": {
        "id": "HbHbpsEKUoFs"
      },
      "source": [
        "Define a Keras model for pose classification"
      ]
    },
    {
      "cell_type": "code",
      "execution_count": 17,
      "metadata": {
        "colab": {
          "base_uri": "https://localhost:8080/"
        },
        "id": "S0t2It5PUooc",
        "outputId": "99dd2e90-63e1-4522-9cef-2b1f6bdd0463"
      },
      "outputs": [
        {
          "output_type": "stream",
          "name": "stdout",
          "text": [
            "Model: \"model\"\n",
            "__________________________________________________________________________________________________\n",
            " Layer (type)                   Output Shape         Param #     Connected to                     \n",
            "==================================================================================================\n",
            " input_1 (InputLayer)           [(None, 51)]         0           []                               \n",
            "                                                                                                  \n",
            " reshape (Reshape)              (None, 17, 3)        0           ['input_1[0][0]']                \n",
            "                                                                                                  \n",
            " tf.__operators__.getitem (Slic  (None, 17, 2)       0           ['reshape[0][0]']                \n",
            " ingOpLambda)                                                                                     \n",
            "                                                                                                  \n",
            " tf.compat.v1.gather (TFOpLambd  (None, 2)           0           ['tf.__operators__.getitem[0][0]'\n",
            " a)                                                              ]                                \n",
            "                                                                                                  \n",
            " tf.compat.v1.gather_1 (TFOpLam  (None, 2)           0           ['tf.__operators__.getitem[0][0]'\n",
            " bda)                                                            ]                                \n",
            "                                                                                                  \n",
            " tf.math.multiply (TFOpLambda)  (None, 2)            0           ['tf.compat.v1.gather[0][0]']    \n",
            "                                                                                                  \n",
            " tf.math.multiply_1 (TFOpLambda  (None, 2)           0           ['tf.compat.v1.gather_1[0][0]']  \n",
            " )                                                                                                \n",
            "                                                                                                  \n",
            " tf.__operators__.add (TFOpLamb  (None, 2)           0           ['tf.math.multiply[0][0]',       \n",
            " da)                                                              'tf.math.multiply_1[0][0]']     \n",
            "                                                                                                  \n",
            " tf.compat.v1.size (TFOpLambda)  ()                  0           ['tf.__operators__.getitem[0][0]'\n",
            "                                                                 ]                                \n",
            "                                                                                                  \n",
            " tf.expand_dims (TFOpLambda)    (None, 1, 2)         0           ['tf.__operators__.add[0][0]']   \n",
            "                                                                                                  \n",
            " tf.compat.v1.floor_div (TFOpLa  ()                  0           ['tf.compat.v1.size[0][0]']      \n",
            " mbda)                                                                                            \n",
            "                                                                                                  \n",
            " tf.broadcast_to (TFOpLambda)   (None, 17, 2)        0           ['tf.expand_dims[0][0]',         \n",
            "                                                                  'tf.compat.v1.floor_div[0][0]'] \n",
            "                                                                                                  \n",
            " tf.math.subtract (TFOpLambda)  (None, 17, 2)        0           ['tf.__operators__.getitem[0][0]'\n",
            "                                                                 , 'tf.broadcast_to[0][0]']       \n",
            "                                                                                                  \n",
            " tf.compat.v1.gather_6 (TFOpLam  (None, 2)           0           ['tf.math.subtract[0][0]']       \n",
            " bda)                                                                                             \n",
            "                                                                                                  \n",
            " tf.compat.v1.gather_7 (TFOpLam  (None, 2)           0           ['tf.math.subtract[0][0]']       \n",
            " bda)                                                                                             \n",
            "                                                                                                  \n",
            " tf.math.multiply_6 (TFOpLambda  (None, 2)           0           ['tf.compat.v1.gather_6[0][0]']  \n",
            " )                                                                                                \n",
            "                                                                                                  \n",
            " tf.math.multiply_7 (TFOpLambda  (None, 2)           0           ['tf.compat.v1.gather_7[0][0]']  \n",
            " )                                                                                                \n",
            "                                                                                                  \n",
            " tf.__operators__.add_3 (TFOpLa  (None, 2)           0           ['tf.math.multiply_6[0][0]',     \n",
            " mbda)                                                            'tf.math.multiply_7[0][0]']     \n",
            "                                                                                                  \n",
            " tf.compat.v1.size_1 (TFOpLambd  ()                  0           ['tf.math.subtract[0][0]']       \n",
            " a)                                                                                               \n",
            "                                                                                                  \n",
            " tf.compat.v1.gather_4 (TFOpLam  (None, 2)           0           ['tf.math.subtract[0][0]']       \n",
            " bda)                                                                                             \n",
            "                                                                                                  \n",
            " tf.compat.v1.gather_5 (TFOpLam  (None, 2)           0           ['tf.math.subtract[0][0]']       \n",
            " bda)                                                                                             \n",
            "                                                                                                  \n",
            " tf.compat.v1.gather_2 (TFOpLam  (None, 2)           0           ['tf.math.subtract[0][0]']       \n",
            " bda)                                                                                             \n",
            "                                                                                                  \n",
            " tf.compat.v1.gather_3 (TFOpLam  (None, 2)           0           ['tf.math.subtract[0][0]']       \n",
            " bda)                                                                                             \n",
            "                                                                                                  \n",
            " tf.expand_dims_1 (TFOpLambda)  (None, 1, 2)         0           ['tf.__operators__.add_3[0][0]'] \n",
            "                                                                                                  \n",
            " tf.compat.v1.floor_div_1 (TFOp  ()                  0           ['tf.compat.v1.size_1[0][0]']    \n",
            " Lambda)                                                                                          \n",
            "                                                                                                  \n",
            " tf.math.multiply_4 (TFOpLambda  (None, 2)           0           ['tf.compat.v1.gather_4[0][0]']  \n",
            " )                                                                                                \n",
            "                                                                                                  \n",
            " tf.math.multiply_5 (TFOpLambda  (None, 2)           0           ['tf.compat.v1.gather_5[0][0]']  \n",
            " )                                                                                                \n",
            "                                                                                                  \n",
            " tf.math.multiply_2 (TFOpLambda  (None, 2)           0           ['tf.compat.v1.gather_2[0][0]']  \n",
            " )                                                                                                \n",
            "                                                                                                  \n",
            " tf.math.multiply_3 (TFOpLambda  (None, 2)           0           ['tf.compat.v1.gather_3[0][0]']  \n",
            " )                                                                                                \n",
            "                                                                                                  \n",
            " tf.broadcast_to_1 (TFOpLambda)  (None, 17, 2)       0           ['tf.expand_dims_1[0][0]',       \n",
            "                                                                  'tf.compat.v1.floor_div_1[0][0]'\n",
            "                                                                 ]                                \n",
            "                                                                                                  \n",
            " tf.__operators__.add_2 (TFOpLa  (None, 2)           0           ['tf.math.multiply_4[0][0]',     \n",
            " mbda)                                                            'tf.math.multiply_5[0][0]']     \n",
            "                                                                                                  \n",
            " tf.__operators__.add_1 (TFOpLa  (None, 2)           0           ['tf.math.multiply_2[0][0]',     \n",
            " mbda)                                                            'tf.math.multiply_3[0][0]']     \n",
            "                                                                                                  \n",
            " tf.math.subtract_2 (TFOpLambda  (None, 17, 2)       0           ['tf.math.subtract[0][0]',       \n",
            " )                                                                'tf.broadcast_to_1[0][0]']      \n",
            "                                                                                                  \n",
            " tf.math.subtract_1 (TFOpLambda  (None, 2)           0           ['tf.__operators__.add_2[0][0]', \n",
            " )                                                                'tf.__operators__.add_1[0][0]'] \n",
            "                                                                                                  \n",
            " tf.compat.v1.gather_8 (TFOpLam  (17, 2)             0           ['tf.math.subtract_2[0][0]']     \n",
            " bda)                                                                                             \n",
            "                                                                                                  \n",
            " tf.compat.v1.norm (TFOpLambda)  ()                  0           ['tf.math.subtract_1[0][0]']     \n",
            "                                                                                                  \n",
            " tf.compat.v1.norm_1 (TFOpLambd  (2,)                0           ['tf.compat.v1.gather_8[0][0]']  \n",
            " a)                                                                                               \n",
            "                                                                                                  \n",
            " tf.math.multiply_8 (TFOpLambda  ()                  0           ['tf.compat.v1.norm[0][0]']      \n",
            " )                                                                                                \n",
            "                                                                                                  \n",
            " tf.math.reduce_max (TFOpLambda  ()                  0           ['tf.compat.v1.norm_1[0][0]']    \n",
            " )                                                                                                \n",
            "                                                                                                  \n",
            " tf.math.maximum (TFOpLambda)   ()                   0           ['tf.math.multiply_8[0][0]',     \n",
            "                                                                  'tf.math.reduce_max[0][0]']     \n",
            "                                                                                                  \n",
            " tf.math.truediv (TFOpLambda)   (None, 17, 2)        0           ['tf.math.subtract[0][0]',       \n",
            "                                                                  'tf.math.maximum[0][0]']        \n",
            "                                                                                                  \n",
            " flatten (Flatten)              (None, 34)           0           ['tf.math.truediv[0][0]']        \n",
            "                                                                                                  \n",
            " dense (Dense)                  (None, 128)          4480        ['flatten[0][0]']                \n",
            "                                                                                                  \n",
            " dropout (Dropout)              (None, 128)          0           ['dense[0][0]']                  \n",
            "                                                                                                  \n",
            " dense_1 (Dense)                (None, 64)           8256        ['dropout[0][0]']                \n",
            "                                                                                                  \n",
            " dropout_1 (Dropout)            (None, 64)           0           ['dense_1[0][0]']                \n",
            "                                                                                                  \n",
            " dense_2 (Dense)                (None, 5)            325         ['dropout_1[0][0]']              \n",
            "                                                                                                  \n",
            "==================================================================================================\n",
            "Total params: 13,061\n",
            "Trainable params: 13,061\n",
            "Non-trainable params: 0\n",
            "__________________________________________________________________________________________________\n"
          ]
        }
      ],
      "source": [
        "# Define the model\n",
        "inputs = tf.keras.Input(shape=(51))\n",
        "embedding = landmarks_to_embedding(inputs)\n",
        "\n",
        "layer = keras.layers.Dense(128, activation=tf.nn.relu6)(embedding)\n",
        "layer = keras.layers.Dropout(0.5)(layer)\n",
        "layer = keras.layers.Dense(64, activation=tf.nn.relu6)(layer)\n",
        "layer = keras.layers.Dropout(0.5)(layer)\n",
        "outputs = keras.layers.Dense(len(class_names), activation=\"softmax\")(layer)\n",
        "\n",
        "model = keras.Model(inputs, outputs)\n",
        "model.summary()"
      ]
    },
    {
      "cell_type": "code",
      "execution_count": 18,
      "metadata": {
        "colab": {
          "base_uri": "https://localhost:8080/"
        },
        "id": "s-hwskxGUtlq",
        "outputId": "7b5001de-b6a0-4d81-806f-64c195d34cad"
      },
      "outputs": [
        {
          "output_type": "stream",
          "name": "stdout",
          "text": [
            "Epoch 1/200\n",
            " 1/10 [==>...........................] - ETA: 8s - loss: 1.6395 - accuracy: 0.0625\n",
            "Epoch 1: val_accuracy improved from -inf to 0.71429, saving model to weights.best.hdf5\n",
            "10/10 [==============================] - 1s 45ms/step - loss: 1.6096 - accuracy: 0.2516 - val_loss: 1.5536 - val_accuracy: 0.7143\n",
            "Epoch 2/200\n",
            " 1/10 [==>...........................] - ETA: 0s - loss: 1.5598 - accuracy: 0.5625\n",
            "Epoch 2: val_accuracy improved from 0.71429 to 0.78571, saving model to weights.best.hdf5\n",
            "10/10 [==============================] - 0s 11ms/step - loss: 1.5526 - accuracy: 0.4645 - val_loss: 1.4922 - val_accuracy: 0.7857\n",
            "Epoch 3/200\n",
            " 1/10 [==>...........................] - ETA: 0s - loss: 1.5190 - accuracy: 0.5000\n",
            "Epoch 3: val_accuracy did not improve from 0.78571\n",
            "10/10 [==============================] - 0s 8ms/step - loss: 1.4978 - accuracy: 0.6323 - val_loss: 1.4195 - val_accuracy: 0.7857\n",
            "Epoch 4/200\n",
            " 1/10 [==>...........................] - ETA: 0s - loss: 1.4249 - accuracy: 0.6250\n",
            "Epoch 4: val_accuracy improved from 0.78571 to 0.82143, saving model to weights.best.hdf5\n",
            "10/10 [==============================] - 0s 13ms/step - loss: 1.4345 - accuracy: 0.6968 - val_loss: 1.3207 - val_accuracy: 0.8214\n",
            "Epoch 5/200\n",
            " 1/10 [==>...........................] - ETA: 0s - loss: 1.3669 - accuracy: 0.6250\n",
            "Epoch 5: val_accuracy improved from 0.82143 to 0.92857, saving model to weights.best.hdf5\n",
            "10/10 [==============================] - 0s 12ms/step - loss: 1.3386 - accuracy: 0.6839 - val_loss: 1.2039 - val_accuracy: 0.9286\n",
            "Epoch 6/200\n",
            " 1/10 [==>...........................] - ETA: 0s - loss: 1.3564 - accuracy: 0.6875\n",
            "Epoch 6: val_accuracy did not improve from 0.92857\n",
            "10/10 [==============================] - 0s 6ms/step - loss: 1.2231 - accuracy: 0.7419 - val_loss: 1.0749 - val_accuracy: 0.9286\n",
            "Epoch 7/200\n",
            " 1/10 [==>...........................] - ETA: 0s - loss: 1.1871 - accuracy: 0.7500\n",
            "Epoch 7: val_accuracy did not improve from 0.92857\n",
            "10/10 [==============================] - 0s 5ms/step - loss: 1.1335 - accuracy: 0.7484 - val_loss: 0.9487 - val_accuracy: 0.9286\n",
            "Epoch 8/200\n",
            " 1/10 [==>...........................] - ETA: 0s - loss: 1.0261 - accuracy: 0.5625\n",
            "Epoch 8: val_accuracy did not improve from 0.92857\n",
            "10/10 [==============================] - 0s 5ms/step - loss: 0.9638 - accuracy: 0.7548 - val_loss: 0.8273 - val_accuracy: 0.9286\n",
            "Epoch 9/200\n",
            " 1/10 [==>...........................] - ETA: 0s - loss: 0.9594 - accuracy: 0.7500\n",
            "Epoch 9: val_accuracy did not improve from 0.92857\n",
            "10/10 [==============================] - 0s 8ms/step - loss: 0.9079 - accuracy: 0.7806 - val_loss: 0.7207 - val_accuracy: 0.9286\n",
            "Epoch 10/200\n",
            " 1/10 [==>...........................] - ETA: 0s - loss: 1.1260 - accuracy: 0.6875\n",
            "Epoch 10: val_accuracy improved from 0.92857 to 0.96429, saving model to weights.best.hdf5\n",
            "10/10 [==============================] - 0s 10ms/step - loss: 0.8068 - accuracy: 0.8387 - val_loss: 0.6356 - val_accuracy: 0.9643\n",
            "Epoch 11/200\n",
            " 1/10 [==>...........................] - ETA: 0s - loss: 0.7107 - accuracy: 0.8125\n",
            "Epoch 11: val_accuracy did not improve from 0.96429\n",
            "10/10 [==============================] - 0s 5ms/step - loss: 0.7195 - accuracy: 0.8323 - val_loss: 0.5523 - val_accuracy: 0.9643\n",
            "Epoch 12/200\n",
            " 1/10 [==>...........................] - ETA: 0s - loss: 0.6374 - accuracy: 0.8750\n",
            "Epoch 12: val_accuracy did not improve from 0.96429\n",
            "10/10 [==============================] - 0s 7ms/step - loss: 0.6405 - accuracy: 0.8710 - val_loss: 0.4839 - val_accuracy: 0.9643\n",
            "Epoch 13/200\n",
            " 1/10 [==>...........................] - ETA: 0s - loss: 0.6563 - accuracy: 0.9375\n",
            "Epoch 13: val_accuracy did not improve from 0.96429\n",
            "10/10 [==============================] - 0s 5ms/step - loss: 0.5758 - accuracy: 0.8774 - val_loss: 0.4279 - val_accuracy: 0.9643\n",
            "Epoch 14/200\n",
            " 1/10 [==>...........................] - ETA: 0s - loss: 0.4424 - accuracy: 0.9375\n",
            "Epoch 14: val_accuracy did not improve from 0.96429\n",
            "10/10 [==============================] - 0s 7ms/step - loss: 0.5460 - accuracy: 0.8452 - val_loss: 0.3859 - val_accuracy: 0.9643\n",
            "Epoch 15/200\n",
            " 1/10 [==>...........................] - ETA: 0s - loss: 0.5622 - accuracy: 0.8125\n",
            "Epoch 15: val_accuracy did not improve from 0.96429\n",
            "10/10 [==============================] - 0s 5ms/step - loss: 0.4955 - accuracy: 0.8452 - val_loss: 0.3558 - val_accuracy: 0.9643\n",
            "Epoch 16/200\n",
            " 1/10 [==>...........................] - ETA: 0s - loss: 0.4718 - accuracy: 1.0000\n",
            "Epoch 16: val_accuracy did not improve from 0.96429\n",
            "10/10 [==============================] - 0s 6ms/step - loss: 0.4853 - accuracy: 0.8839 - val_loss: 0.3393 - val_accuracy: 0.9643\n",
            "Epoch 17/200\n",
            " 1/10 [==>...........................] - ETA: 0s - loss: 0.3769 - accuracy: 0.9375\n",
            "Epoch 17: val_accuracy did not improve from 0.96429\n",
            "10/10 [==============================] - 0s 6ms/step - loss: 0.3657 - accuracy: 0.9355 - val_loss: 0.3139 - val_accuracy: 0.9643\n",
            "Epoch 18/200\n",
            " 1/10 [==>...........................] - ETA: 0s - loss: 0.4211 - accuracy: 0.8125\n",
            "Epoch 18: val_accuracy did not improve from 0.96429\n",
            "10/10 [==============================] - 0s 5ms/step - loss: 0.3666 - accuracy: 0.8710 - val_loss: 0.3108 - val_accuracy: 0.9643\n",
            "Epoch 19/200\n",
            " 1/10 [==>...........................] - ETA: 0s - loss: 0.4685 - accuracy: 0.8750\n",
            "Epoch 19: val_accuracy did not improve from 0.96429\n",
            "10/10 [==============================] - 0s 6ms/step - loss: 0.3769 - accuracy: 0.8968 - val_loss: 0.2945 - val_accuracy: 0.9643\n",
            "Epoch 20/200\n",
            " 1/10 [==>...........................] - ETA: 0s - loss: 0.4500 - accuracy: 0.8125\n",
            "Epoch 20: val_accuracy did not improve from 0.96429\n",
            "10/10 [==============================] - 0s 5ms/step - loss: 0.3747 - accuracy: 0.8516 - val_loss: 0.2801 - val_accuracy: 0.9643\n",
            "Epoch 21/200\n",
            " 1/10 [==>...........................] - ETA: 0s - loss: 0.2758 - accuracy: 1.0000\n",
            "Epoch 21: val_accuracy did not improve from 0.96429\n",
            "10/10 [==============================] - 0s 6ms/step - loss: 0.3133 - accuracy: 0.9032 - val_loss: 0.2540 - val_accuracy: 0.9643\n",
            "Epoch 22/200\n",
            " 1/10 [==>...........................] - ETA: 0s - loss: 0.4526 - accuracy: 0.8125\n",
            "Epoch 22: val_accuracy did not improve from 0.96429\n",
            "10/10 [==============================] - 0s 6ms/step - loss: 0.2973 - accuracy: 0.8903 - val_loss: 0.2341 - val_accuracy: 0.9643\n",
            "Epoch 23/200\n",
            " 1/10 [==>...........................] - ETA: 0s - loss: 0.3099 - accuracy: 0.9375\n",
            "Epoch 23: val_accuracy did not improve from 0.96429\n",
            "10/10 [==============================] - 0s 6ms/step - loss: 0.2889 - accuracy: 0.9161 - val_loss: 0.2362 - val_accuracy: 0.9643\n",
            "Epoch 24/200\n",
            " 1/10 [==>...........................] - ETA: 0s - loss: 0.4231 - accuracy: 0.8125\n",
            "Epoch 24: val_accuracy did not improve from 0.96429\n",
            "10/10 [==============================] - 0s 6ms/step - loss: 0.2609 - accuracy: 0.9226 - val_loss: 0.2269 - val_accuracy: 0.9643\n",
            "Epoch 25/200\n",
            " 1/10 [==>...........................] - ETA: 0s - loss: 0.3188 - accuracy: 1.0000\n",
            "Epoch 25: val_accuracy did not improve from 0.96429\n",
            "10/10 [==============================] - 0s 8ms/step - loss: 0.3050 - accuracy: 0.9161 - val_loss: 0.2059 - val_accuracy: 0.9643\n",
            "Epoch 26/200\n",
            " 1/10 [==>...........................] - ETA: 0s - loss: 0.4091 - accuracy: 0.8750\n",
            "Epoch 26: val_accuracy did not improve from 0.96429\n",
            "10/10 [==============================] - 0s 7ms/step - loss: 0.2701 - accuracy: 0.9355 - val_loss: 0.1828 - val_accuracy: 0.9643\n",
            "Epoch 27/200\n",
            " 1/10 [==>...........................] - ETA: 0s - loss: 0.1891 - accuracy: 0.9375\n",
            "Epoch 27: val_accuracy did not improve from 0.96429\n",
            "10/10 [==============================] - 0s 7ms/step - loss: 0.2345 - accuracy: 0.9419 - val_loss: 0.1941 - val_accuracy: 0.9643\n",
            "Epoch 28/200\n",
            " 1/10 [==>...........................] - ETA: 0s - loss: 0.1445 - accuracy: 1.0000\n",
            "Epoch 28: val_accuracy did not improve from 0.96429\n",
            "10/10 [==============================] - 0s 6ms/step - loss: 0.2368 - accuracy: 0.9484 - val_loss: 0.2031 - val_accuracy: 0.9643\n",
            "Epoch 29/200\n",
            " 1/10 [==>...........................] - ETA: 0s - loss: 0.1704 - accuracy: 1.0000\n",
            "Epoch 29: val_accuracy did not improve from 0.96429\n",
            "10/10 [==============================] - 0s 6ms/step - loss: 0.1967 - accuracy: 0.9677 - val_loss: 0.2062 - val_accuracy: 0.9643\n",
            "Epoch 30/200\n",
            " 1/10 [==>...........................] - ETA: 0s - loss: 0.3078 - accuracy: 0.8750\n",
            "Epoch 30: val_accuracy did not improve from 0.96429\n",
            "10/10 [==============================] - 0s 6ms/step - loss: 0.2136 - accuracy: 0.9290 - val_loss: 0.2014 - val_accuracy: 0.9643\n"
          ]
        }
      ],
      "source": [
        "model.compile(\n",
        "    optimizer='adam',\n",
        "    loss='categorical_crossentropy',\n",
        "    metrics=['accuracy']\n",
        ")\n",
        "\n",
        "# Add a checkpoint callback to store the checkpoint that has the highest\n",
        "# validation accuracy.\n",
        "checkpoint_path = \"weights.best.hdf5\"\n",
        "checkpoint = keras.callbacks.ModelCheckpoint(checkpoint_path,\n",
        "                             monitor='val_accuracy',\n",
        "                             verbose=1,\n",
        "                             save_best_only=True,\n",
        "                             mode='max')\n",
        "earlystopping = keras.callbacks.EarlyStopping(monitor='val_accuracy', \n",
        "                                              patience=20)\n",
        "\n",
        "# Start training\n",
        "history = model.fit(X_train, y_train,\n",
        "                    epochs=200,\n",
        "                    batch_size=16,\n",
        "                    validation_data=(X_val, y_val),\n",
        "                    callbacks=[checkpoint, earlystopping])"
      ]
    },
    {
      "cell_type": "code",
      "execution_count": 19,
      "metadata": {
        "colab": {
          "base_uri": "https://localhost:8080/",
          "height": 295
        },
        "id": "tWXoxzloUy5y",
        "outputId": "dd2e000a-650d-4877-8798-9c4f6acb1da2"
      },
      "outputs": [
        {
          "output_type": "display_data",
          "data": {
            "text/plain": [
              "<Figure size 432x288 with 1 Axes>"
            ],
            "image/png": "[encoded data removed]"
          },
          "metadata": {
            "needs_background": "light"
          }
        }
      ],
      "source": [
        "# Visualize the training history to see whether you're overfitting.\n",
        "plt.plot(history.history['accuracy'])\n",
        "plt.plot(history.history['val_accuracy'])\n",
        "plt.title('Model accuracy')\n",
        "plt.ylabel('accuracy')\n",
        "plt.xlabel('epoch')\n",
        "plt.legend(['TRAIN', 'VAL'], loc='lower right')\n",
        "plt.show()"
      ]
    },
    {
      "cell_type": "code",
      "execution_count": 20,
      "metadata": {
        "colab": {
          "base_uri": "https://localhost:8080/"
        },
        "id": "pCXLgt4HU14Y",
        "outputId": "7d9c4d36-015c-455b-b361-86cb8068c5d8"
      },
      "outputs": [
        {
          "output_type": "stream",
          "name": "stdout",
          "text": [
            "2/2 [==============================] - 0s 6ms/step - loss: 0.1631 - accuracy: 1.0000\n"
          ]
        }
      ],
      "source": [
        "# Evaluate the model using the TEST dataset\n",
        "loss, accuracy = model.evaluate(X_test, y_test)"
      ]
    },
    {
      "cell_type": "markdown",
      "metadata": {
        "id": "QObTpTUVU42r"
      },
      "source": [
        "Draw the confusion matrix to better understand the model performance"
      ]
    },
    {
      "cell_type": "code",
      "execution_count": 21,
      "metadata": {
        "colab": {
          "base_uri": "https://localhost:8080/",
          "height": 575
        },
        "id": "FQU8qcJ5U7xv",
        "outputId": "48899eef-7419-4213-f46e-0a037cd73388"
      },
      "outputs": [
        {
          "output_type": "stream",
          "name": "stdout",
          "text": [
            "2/2 [==============================] - 0s 7ms/step\n",
            "Confusion matrix, without normalization\n",
            "\n",
            "Classification Report:\n",
            "                          precision    recall  f1-score   support\n",
            "\n",
            "adho mukha svanasana512       1.00      1.00      1.00        13\n",
            "  adho mukha vriksasana       1.00      1.00      1.00         7\n",
            "        agnistambhasana       1.00      1.00      1.00         6\n",
            "        ananda balasana       1.00      1.00      1.00         9\n",
            "             anantasana       1.00      1.00      1.00         7\n",
            "\n",
            "               accuracy                           1.00        42\n",
            "              macro avg       1.00      1.00      1.00        42\n",
            "           weighted avg       1.00      1.00      1.00        42\n",
            "\n"
          ]
        },
        {
          "output_type": "display_data",
          "data": {
            "text/plain": [
              "<Figure size 432x288 with 2 Axes>"
            ],
            "image/png": "[encoded data removed]"
          },
          "metadata": {
            "needs_background": "light"
          }
        }
      ],
      "source": [
        "def plot_confusion_matrix(cm, classes,\n",
        "                          normalize=False,\n",
        "                          title='Confusion matrix',\n",
        "                          cmap=plt.cm.Blues):\n",
        "  \"\"\"Plots the confusion matrix.\"\"\"\n",
        "  if normalize:\n",
        "    cm = cm.astype('float') / cm.sum(axis=1)[:, np.newaxis]\n",
        "    print(\"Normalized confusion matrix\")\n",
        "  else:\n",
        "    print('Confusion matrix, without normalization')\n",
        "\n",
        "  plt.imshow(cm, interpolation='nearest', cmap=cmap)\n",
        "  plt.title(title)\n",
        "  plt.colorbar()\n",
        "  tick_marks = np.arange(len(classes))\n",
        "  plt.xticks(tick_marks, classes, rotation=55)\n",
        "  plt.yticks(tick_marks, classes)\n",
        "  fmt = '.2f' if normalize else 'd'\n",
        "  thresh = cm.max() / 2.\n",
        "  for i, j in itertools.product(range(cm.shape[0]), range(cm.shape[1])):\n",
        "    plt.text(j, i, format(cm[i, j], fmt),\n",
        "              horizontalalignment=\"center\",\n",
        "              color=\"white\" if cm[i, j] > thresh else \"black\")\n",
        "\n",
        "  plt.ylabel('True label')\n",
        "  plt.xlabel('Predicted label')\n",
        "  plt.tight_layout()\n",
        "\n",
        "# Classify pose in the TEST dataset using the trained model\n",
        "y_pred = model.predict(X_test)\n",
        "\n",
        "# Convert the prediction result to class name\n",
        "y_pred_label = [class_names[i] for i in np.argmax(y_pred, axis=1)]\n",
        "y_true_label = [class_names[i] for i in np.argmax(y_test, axis=1)]\n",
        "\n",
        "# Plot the confusion matrix\n",
        "cm = confusion_matrix(np.argmax(y_test, axis=1), np.argmax(y_pred, axis=1))\n",
        "plot_confusion_matrix(cm,\n",
        "                      class_names,\n",
        "                      title ='Confusion Matrix of Pose Classification Model')\n",
        "\n",
        "# Print the classification report\n",
        "print('\\nClassification Report:\\n', classification_report(y_true_label,\n",
        "                                                          y_pred_label))"
      ]
    },
    {
      "cell_type": "markdown",
      "metadata": {
        "id": "grFh4YnbVDxc"
      },
      "source": [
        "Part 3: Convert the pose classification model to TensorFlow Lite"
      ]
    },
    {
      "cell_type": "code",
      "execution_count": 22,
      "metadata": {
        "colab": {
          "base_uri": "https://localhost:8080/"
        },
        "id": "2GZ5GqSXVGOg",
        "outputId": "d24ae436-8cca-4583-fd64-5a9544a768d8"
      },
      "outputs": [
        {
          "output_type": "stream",
          "name": "stdout",
          "text": [
            "Model size: 26KB\n"
          ]
        }
      ],
      "source": [
        "converter = tf.lite.TFLiteConverter.from_keras_model(model)\n",
        "converter.optimizations = [tf.lite.Optimize.DEFAULT]\n",
        "tflite_model = converter.convert()\n",
        "\n",
        "print('Model size: %dKB' % (len(tflite_model) / 1024))\n",
        "\n",
        "with open('pose_classifier.tflite', 'wb') as f:\n",
        "  f.write(tflite_model)"
      ]
    },
    {
      "cell_type": "code",
      "execution_count": 23,
      "metadata": {
        "id": "SGoP31dnVIy1"
      },
      "outputs": [],
      "source": [
        "with open('pose_labels.txt', 'w') as f:\n",
        "  f.write('\\n'.join(class_names))"
      ]
    },
    {
      "cell_type": "code",
      "execution_count": 24,
      "metadata": {
        "colab": {
          "base_uri": "https://localhost:8080/"
        },
        "id": "NgD_Xk9HVLY-",
        "outputId": "49d320f4-673d-4e43-8670-c155818351e3"
      },
      "outputs": [
        {
          "output_type": "stream",
          "name": "stdout",
          "text": [
            "Accuracy of TFLite model: 1.0\n"
          ]
        }
      ],
      "source": [
        "def evaluate_model(interpreter, X, y_true):\n",
        "  \"\"\"Evaluates the given TFLite model and return its accuracy.\"\"\"\n",
        "  input_index = interpreter.get_input_details()[0][\"index\"]\n",
        "  output_index = interpreter.get_output_details()[0][\"index\"]\n",
        "\n",
        "  # Run predictions on all given poses.\n",
        "  y_pred = []\n",
        "  for i in range(len(y_true)):\n",
        "    # Pre-processing: add batch dimension and convert to float32 to match with\n",
        "    # the model's input data format.\n",
        "    test_image = X[i: i + 1].astype('float32')\n",
        "    interpreter.set_tensor(input_index, test_image)\n",
        "\n",
        "    # Run inference.\n",
        "    interpreter.invoke()\n",
        "\n",
        "    # Post-processing: remove batch dimension and find the class with highest\n",
        "    # probability.\n",
        "    output = interpreter.tensor(output_index)\n",
        "    predicted_label = np.argmax(output()[0])\n",
        "    y_pred.append(predicted_label)\n",
        "\n",
        "  # Compare prediction results with ground truth labels to calculate accuracy.\n",
        "  y_pred = keras.utils.to_categorical(y_pred)\n",
        "  return accuracy_score(y_true, y_pred)\n",
        "\n",
        "# Evaluate the accuracy of the converted TFLite model\n",
        "classifier_interpreter = tf.lite.Interpreter(model_content=tflite_model)\n",
        "classifier_interpreter.allocate_tensors()\n",
        "print('Accuracy of TFLite model: %s' %\n",
        "      evaluate_model(classifier_interpreter, X_test, y_test))"
      ]
    },
    {
      "cell_type": "code",
      "execution_count": 25,
      "metadata": {
        "id": "OXdaMwaWjvjx"
      },
      "outputs": [],
      "source": [
        "def predict_image(img):\n",
        "  img_4d=img.reshape(none,51)\n",
        "  prediction=model.predict(img_4d)[0]\n",
        "  return {class_names[i]: float(prediction[i]) for i in range(5)}"
      ]
    },
    {
      "cell_type": "code",
      "execution_count": 28,
      "metadata": {
        "id": "-xi1REf7VQ2J",
        "colab": {
          "base_uri": "https://localhost:8080/"
        },
        "outputId": "0057a5a3-a376-45a6-c3e0-cef23aa345f9"
      },
      "outputs": [
        {
          "output_type": "stream",
          "name": "stdout",
          "text": [
            "  adding: pose_labels.txt (deflated 32%)\n",
            "  adding: pose_classifier.tflite (deflated 32%)\n"
          ]
        }
      ],
      "source": [
        "!zip pose_classifier.zip pose_labels.txt pose_classifier.tflite"
      ]
    },
    {
      "cell_type": "code",
      "execution_count": null,
      "metadata": {
        "id": "QbfRBSIoVUs9"
      },
      "outputs": [],
      "source": [
        "# Download the zip archive if running on Colab.\n",
        "try:\n",
        "  from google.colab import files\n",
        "  files.download('pose_classifier.zip')\n",
        "except:\n",
        "  pass"
      ]
    }
  ],
  "metadata": {
    "colab": {
      "provenance": []
    },
    "kernelspec": {
      "display_name": "Python 3",
      "name": "python3"
    },
    "language_info": {
      "name": "python"
    }
  },
  "nbformat": 4,
  "nbformat_minor": 0
}